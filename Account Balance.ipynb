{
 "cells": [
  {
   "cell_type": "markdown",
   "id": "96bc428e-27dc-40ff-b2b9-34b5421508e0",
   "metadata": {},
   "source": [
    "## DATA OVERVIEW"
   ]
  },
  {
   "cell_type": "markdown",
   "id": "976a845e-5f5c-4cae-b2e2-b56d92f391f2",
   "metadata": {},
   "source": [
    "What You're Aiming For\n",
    "Create a class called \"Account\" that has the following attributes:\n",
    "•\taccount_number (string)\n",
    "•\taccount_balance (float)\n",
    "•\taccount_holder (string)\n",
    "The class should have the following methods:\n",
    "•\tdeposit (amount: float) - This method should add the amount passed as an argument to the account balance.\n",
    "•\tWithdraw (amount: float) - This method should subtract the amount passed as an argument from the account balance, but only if the account balance is greater than the amount being withdrawn.\n",
    "•\tcheck_balance () - This method should return the current account balance.\n",
    "Instructions\n",
    "1.\tCreate a new file called \"bank_account.py\"\n",
    "2.\tDefine the Account class and its attributes as specified above.\n",
    "3.\tDefine the deposit() method. It should take in one argument, the amount to be deposited, and add it to the account balance.\n",
    "4.\tDefine the withdraw() method. It should take in one argument, the amount to be withdrawn, and subtract it from the account balance. The method should only execute the withdrawal if the account balance is greater than or equal to the amount to be withdrawn.\n",
    "5.\tDefine the check_balance() method. It should return the current account balance.\n",
    "6.\tCreate an instance of the Account class, and assign it to a variable called \"my_account\".\n",
    "7.\tUse the methods of the class to deposit and withdraw money from the account, and check the account balance.\n",
    "8.\tTest the program by creating multiple instances of the class and performing different transactions on them.\n",
    "\n"
   ]
  },
  {
   "cell_type": "code",
   "execution_count": 60,
   "id": "76a1fc6f-784f-435f-a396-b400b6730e61",
   "metadata": {},
   "outputs": [
    {
     "name": "stdout",
     "output_type": "stream",
     "text": [
      "Deposited 500.0. New balance is 15500.0.\n",
      "Balance after deposit: 15500.0\n",
      "Withdrew 1200. New balance is 14300.0.\n",
      "Final balance: 14300.0\n",
      "Current balance: 14300.0\n"
     ]
    }
   ],
   "source": [
    "# Defining the Account class\n",
    "class Account:\n",
    "    def __init__(self, account_number: str, account_holder: str, account_balance: float = 0.0):  # Fixed __init__\n",
    "        self.account_number = account_number\n",
    "        self.account_holder = account_holder\n",
    "        self.account_balance = account_balance\n",
    "\n",
    "    # Defining the deposit method\n",
    "    def deposit(self, amount):\n",
    "        if amount > 0:\n",
    "            self.account_balance += amount\n",
    "            print(f\"Deposited {amount}. New balance is {self.account_balance}.\")\n",
    "        else:\n",
    "            print(\"Deposit amount must be positive.\")\n",
    "\n",
    "    # Defining the withdraw method\n",
    "    def withdraw(self, amount):\n",
    "        if amount > 0 and self.account_balance >= amount:\n",
    "            self.account_balance -= amount\n",
    "            print(f\"Withdrew {amount}. New balance is {self.account_balance}.\")\n",
    "        else:\n",
    "            print(\"Insufficient funds or invalid amount.\")\n",
    "\n",
    "    # Defining the check_balance method\n",
    "    def check_balance(self):\n",
    "        return self.account_balance\n",
    "\n",
    "\n",
    "# Creating an instance of the Account class\n",
    "my_account = Account(\"2221313111\", \"Karen Shokunbi\", 15000.0)  # Now it will work!\n",
    "\n",
    "# Deposit Example\n",
    "my_account.deposit(500.0)\n",
    "print(\"Balance after deposit:\", my_account.check_balance())\n",
    "\n",
    "# Withdrawal Example\n",
    "my_account.withdraw(1200)\n",
    "print(\"Final balance:\", my_account.check_balance())\n",
    "\n",
    "# Checking balance example\n",
    "print(f\"Current balance: {my_account.check_balance()}\")\n"
   ]
  },
  {
   "cell_type": "code",
   "execution_count": null,
   "id": "225bc3c0-c9f0-4a07-969b-c7173bf0f3e2",
   "metadata": {},
   "outputs": [],
   "source": []
  }
 ],
 "metadata": {
  "kernelspec": {
   "display_name": "Python [conda env:base] *",
   "language": "python",
   "name": "conda-base-py"
  },
  "language_info": {
   "codemirror_mode": {
    "name": "ipython",
    "version": 3
   },
   "file_extension": ".py",
   "mimetype": "text/x-python",
   "name": "python",
   "nbconvert_exporter": "python",
   "pygments_lexer": "ipython3",
   "version": "3.12.7"
  }
 },
 "nbformat": 4,
 "nbformat_minor": 5
}
